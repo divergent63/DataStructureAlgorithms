{
 "cells": [
  {
   "cell_type": "code",
   "execution_count": null,
   "id": "cross-chain",
   "metadata": {},
   "outputs": [],
   "source": []
  },
  {
   "cell_type": "code",
   "execution_count": 1,
   "id": "simple-paper",
   "metadata": {},
   "outputs": [],
   "source": [
    "class ListNode():      # ListNode继承object中的方法\n",
    "    def __init__(self, data):\n",
    "        self.data = data\n",
    "        self.next = None"
   ]
  },
  {
   "cell_type": "code",
   "execution_count": 2,
   "id": "strong-corps",
   "metadata": {},
   "outputs": [],
   "source": [
    "class LN_Method():\n",
    "    def __init__(self):\n",
    "        self.cur_node = None\n",
    "    \n",
    "    def add(self, data):\n",
    "        #add a new node pointed to previous node\n",
    "        node = ListNode(data)\n",
    "        node.val = data\n",
    "        node.next = self.cur_node\n",
    "        self.cur_node = node\n",
    "        return node\n",
    "    \n",
    "    def storage(self, data_list):\n",
    "        for i in range(data_lsit):\n",
    "            l1 = self.add(i)\n",
    "        return l1\n",
    "    \n",
    "    def findKth(self, K):\n",
    "        i = 1\n",
    "        current = 0\n",
    "        while(self.cur_node != None and i < K):\n",
    "            current = self.cur_node\n",
    "            i += 1 \n",
    "            if i == K:\n",
    "                return current\n",
    "            else:\n",
    "                return None\n",
    "    \n",
    "    def print_ListNode(self, node):\n",
    "        while node:\n",
    "            print('\\nnode: ', node, ' value: ', node.val, ' next: ', node.next)\n",
    "            node = node.next\n"
   ]
  },
  {
   "cell_type": "code",
   "execution_count": 3,
   "id": "covered-aaron",
   "metadata": {},
   "outputs": [],
   "source": [
    "l1 = ListNode(1)"
   ]
  },
  {
   "cell_type": "code",
   "execution_count": 4,
   "id": "descending-tribe",
   "metadata": {},
   "outputs": [],
   "source": [
    "    l1_list = [1,8,3]\n",
    "\n",
    "    ListNode_process = LN_Method()\n",
    "    l1 = ListNode(l1_list[0])\n",
    "#     ListNode_process.add(l1_list)\n",
    "    for i in l1_list:\n",
    "        l1 = ListNode_process.add(i)"
   ]
  },
  {
   "cell_type": "code",
   "execution_count": 5,
   "id": "broadband-charlotte",
   "metadata": {},
   "outputs": [
    {
     "data": {
      "text/plain": [
       "<__main__.ListNode at 0x14d3eccfe10>"
      ]
     },
     "execution_count": 5,
     "metadata": {},
     "output_type": "execute_result"
    }
   ],
   "source": [
    "l1"
   ]
  },
  {
   "cell_type": "code",
   "execution_count": 6,
   "id": "received-jenny",
   "metadata": {},
   "outputs": [
    {
     "name": "stdout",
     "output_type": "stream",
     "text": [
      "\n",
      "node:  <__main__.ListNode object at 0x0000014D3ECCFE10>  value:  3  next:  <__main__.ListNode object at 0x0000014D3ECCFCF8>\n",
      "\n",
      "node:  <__main__.ListNode object at 0x0000014D3ECCFCF8>  value:  8  next:  <__main__.ListNode object at 0x0000014D3ECCFD68>\n",
      "\n",
      "node:  <__main__.ListNode object at 0x0000014D3ECCFD68>  value:  1  next:  None\n"
     ]
    }
   ],
   "source": [
    "ListNode_process.print_ListNode(l1)"
   ]
  },
  {
   "cell_type": "code",
   "execution_count": 7,
   "id": "animated-harbor",
   "metadata": {},
   "outputs": [
    {
     "data": {
      "text/plain": [
       "<__main__.ListNode at 0x14d3eccfe10>"
      ]
     },
     "execution_count": 7,
     "metadata": {},
     "output_type": "execute_result"
    }
   ],
   "source": [
    "ListNode_process.findKth(2)"
   ]
  },
  {
   "cell_type": "code",
   "execution_count": 8,
   "id": "horizontal-charm",
   "metadata": {},
   "outputs": [
    {
     "name": "stdout",
     "output_type": "stream",
     "text": [
      "\n",
      "node:  <__main__.ListNode object at 0x0000014D3ECCFE10>  value:  3  next:  <__main__.ListNode object at 0x0000014D3ECCFCF8>\n",
      "\n",
      "node:  <__main__.ListNode object at 0x0000014D3ECCFCF8>  value:  8  next:  <__main__.ListNode object at 0x0000014D3ECCFD68>\n",
      "\n",
      "node:  <__main__.ListNode object at 0x0000014D3ECCFD68>  value:  1  next:  None\n"
     ]
    }
   ],
   "source": [
    "ListNode_process.print_ListNode(ListNode_process.findKth(2))"
   ]
  },
  {
   "cell_type": "code",
   "execution_count": null,
   "id": "annoying-house",
   "metadata": {},
   "outputs": [],
   "source": []
  },
  {
   "cell_type": "code",
   "execution_count": 9,
   "id": "numerical-postcard",
   "metadata": {},
   "outputs": [],
   "source": [
    "import linearTable"
   ]
  },
  {
   "cell_type": "code",
   "execution_count": 14,
   "id": "hazardous-thought",
   "metadata": {},
   "outputs": [
    {
     "data": {
      "text/plain": [
       "<linearTable.linkedListNode at 0x14d3ecf4940>"
      ]
     },
     "execution_count": 14,
     "metadata": {},
     "output_type": "execute_result"
    }
   ],
   "source": [
    "l1 = linearTable.linkedListNode(9)\n",
    "l1"
   ]
  },
  {
   "cell_type": "code",
   "execution_count": 22,
   "id": "executive-relevance",
   "metadata": {},
   "outputs": [
    {
     "name": "stdout",
     "output_type": "stream",
     "text": [
      "1 None\n",
      "8 None\n",
      "4 None\n"
     ]
    }
   ],
   "source": [
    "l1_op = linearTable.linkedListOperation()\n",
    "for data in [1, 8, 4]:\n",
    "    print(l1_op.add(data)._getData(), l1_op.add(data)._getNext())"
   ]
  },
  {
   "cell_type": "code",
   "execution_count": 19,
   "id": "joined-recognition",
   "metadata": {},
   "outputs": [
    {
     "ename": "AttributeError",
     "evalue": "'linkedListOperation' object has no attribute '_getData'",
     "output_type": "error",
     "traceback": [
      "\u001b[1;31m---------------------------------------------------------------------------\u001b[0m",
      "\u001b[1;31mAttributeError\u001b[0m                            Traceback (most recent call last)",
      "\u001b[1;32m<ipython-input-19-ef16e43f6d1e>\u001b[0m in \u001b[0;36m<module>\u001b[1;34m\u001b[0m\n\u001b[1;32m----> 1\u001b[1;33m \u001b[0ml1_op\u001b[0m\u001b[1;33m.\u001b[0m\u001b[0m_getData\u001b[0m\u001b[1;33m(\u001b[0m\u001b[1;33m)\u001b[0m\u001b[1;33m\u001b[0m\u001b[0m\n\u001b[0m",
      "\u001b[1;31mAttributeError\u001b[0m: 'linkedListOperation' object has no attribute '_getData'"
     ]
    }
   ],
   "source": []
  },
  {
   "cell_type": "code",
   "execution_count": null,
   "id": "magnetic-agency",
   "metadata": {},
   "outputs": [],
   "source": []
  }
 ],
 "metadata": {
  "kernelspec": {
   "display_name": "Python 3",
   "language": "python",
   "name": "python3"
  },
  "language_info": {
   "codemirror_mode": {
    "name": "ipython",
    "version": 3
   },
   "file_extension": ".py",
   "mimetype": "text/x-python",
   "name": "python",
   "nbconvert_exporter": "python",
   "pygments_lexer": "ipython3",
   "version": "3.7.0"
  }
 },
 "nbformat": 4,
 "nbformat_minor": 5
}
